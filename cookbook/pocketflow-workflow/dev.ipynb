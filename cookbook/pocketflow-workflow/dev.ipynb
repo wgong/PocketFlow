{
 "cells": [
  {
   "cell_type": "code",
   "execution_count": 1,
   "id": "7fd59d41-062f-4925-9985-ecbb8c6d23fc",
   "metadata": {},
   "outputs": [],
   "source": [
    "from pathlib import Path # Import the Path class\n",
    "import re"
   ]
  },
  {
   "cell_type": "code",
   "execution_count": 2,
   "id": "480ea7d2-2828-463d-875f-1f18d4ace4e5",
   "metadata": {},
   "outputs": [],
   "source": [
    "def write_file(topic=\"\", content=\"\", style=\"draft\", out_dir=\"output\"):\n",
    "    \"\"\"\n",
    "    Write <content> data to an output file named as:\n",
    "        \"<out_dir>/<style>-<reformated-topic>.md\"\n",
    "\n",
    "    where <reformated-topic> string has any special character replaced with \"-\".\n",
    "    \"\"\"\n",
    "    if not content:\n",
    "        print(f\"No content provided for topic: {topic}. Skipping file write.\")\n",
    "        return\n",
    "\n",
    "    # 1. Reformat the topic string (logic remains the same)\n",
    "    reformated_topic = topic.lower()\n",
    "    reformated_topic = reformated_topic.replace(\" \", \"-\")\n",
    "    reformated_topic = re.sub(r'[^\\w-]+', '-', reformated_topic)\n",
    "    reformated_topic = re.sub(r'-+', '-', reformated_topic)\n",
    "    reformated_topic = reformated_topic.strip('-')\n",
    "\n",
    "    if not reformated_topic:\n",
    "        reformated_topic = \"untitled\" # Provide a default name\n",
    "        topic = \"Untitled\"\n",
    "\n",
    "    # 2. Construct the filename and the full path using pathlib\n",
    "    filename = f\"{style}-{reformated_topic}.md\"\n",
    "    output_dir_path = Path(out_dir)\n",
    "    full_path = output_dir_path / filename\n",
    "\n",
    "    # 3. Ensure the output directory exists using pathlib\n",
    "    try:\n",
    "        output_dir_path.mkdir(parents=True, exist_ok=True)\n",
    "    except OSError as e:\n",
    "        print(f\"Error creating directory {output_dir_path}: {e}\")\n",
    "        return # Exit if directory cannot be created\n",
    "\n",
    "    # 4. Write the content to the file using pathlib's write_text\n",
    "    try:\n",
    "        full_path.write_text(f\"# {topic}\\n\\n{content}\", encoding='utf-8')\n",
    "        print(f\"Successfully wrote content for '{topic}' to {full_path}\")\n",
    "    except (IOError, OSError) as e: # Catch potential file system errors\n",
    "        print(f\"[Error] failed to write {full_path}:\\n {e}\")"
   ]
  },
  {
   "cell_type": "code",
   "execution_count": 3,
   "id": "c52516c3-c1fe-4bce-9d72-0456e5816614",
   "metadata": {},
   "outputs": [
    {
     "name": "stdout",
     "output_type": "stream",
     "text": [
      "Successfully wrote content for 'My First Topic!?' to output/final-my-first-topic.md\n"
     ]
    }
   ],
   "source": [
    "# Example Usage (remains the same):\n",
    "topic1 = \"My First Topic!?\"\n",
    "content1 = \"This is some content.\"\n",
    "write_file(topic1, content1, style=\"final\")\n",
    "# Expected output file: project_files_pathlib/final-my-first-topic.md"
   ]
  },
  {
   "cell_type": "code",
   "execution_count": 4,
   "id": "4ec66b3d-74a7-4716-b9ff-a6a57d481bf1",
   "metadata": {},
   "outputs": [
    {
     "name": "stdout",
     "output_type": "stream",
     "text": [
      "No content provided for topic: ---Special---Chars---. Skipping file write.\n"
     ]
    }
   ],
   "source": [
    "topic2 = \"---Special---Chars---\"\n",
    "content2 = \"Content for special chars topic.\"\n",
    "write_file(topic2)\n",
    "# Expected output file: output_pathlib/draft-special-chars.md"
   ]
  },
  {
   "cell_type": "code",
   "execution_count": 5,
   "id": "547be17b-5893-4507-8f5c-3c77b69d0d9e",
   "metadata": {},
   "outputs": [
    {
     "name": "stdout",
     "output_type": "stream",
     "text": [
      "Successfully wrote content for ' Leading and Trailing Spaces ' to output/test-leading-and-trailing-spaces.md\n"
     ]
    }
   ],
   "source": [
    "topic3 = \" Leading and Trailing Spaces \"\n",
    "content3 = \"Spaces trimmed.\"\n",
    "write_file(topic3, content3, style=\"test\")\n",
    "# Expected output file: output_pathlib/test-leading-and-trailing-spaces.md"
   ]
  },
  {
   "cell_type": "code",
   "execution_count": 6,
   "id": "bf45c85b-c597-4a3b-9647-d6c4d2c7a2aa",
   "metadata": {},
   "outputs": [
    {
     "name": "stdout",
     "output_type": "stream",
     "text": [
      "Successfully wrote content for 'Untitled' to output/draft-untitled.md\n"
     ]
    }
   ],
   "source": [
    "topic4 = \"!!!\" # Edge case: topic becomes empty\n",
    "content4 = \"Content for edge case.\"\n",
    "write_file(topic4, content4)\n",
    "# Expected output file: output_pathlib/draft-untitled.md"
   ]
  },
  {
   "cell_type": "code",
   "execution_count": 7,
   "id": "be983bdc-48d4-4002-b791-4c7ad05baafc",
   "metadata": {},
   "outputs": [
    {
     "name": "stdout",
     "output_type": "stream",
     "text": [
      "No content provided for topic: No Content Topic. Skipping file write.\n"
     ]
    }
   ],
   "source": [
    "topic5 = \"No Content Topic\"\n",
    "write_file(topic5)\n",
    "# Expected output: No file written, function returns early."
   ]
  },
  {
   "cell_type": "code",
   "execution_count": null,
   "id": "ff751c2e-03dd-444a-8ad0-11a1d384ad15",
   "metadata": {},
   "outputs": [],
   "source": []
  }
 ],
 "metadata": {
  "kernelspec": {
   "display_name": "Python 3 (ipykernel)",
   "language": "python",
   "name": "python3"
  },
  "language_info": {
   "codemirror_mode": {
    "name": "ipython",
    "version": 3
   },
   "file_extension": ".py",
   "mimetype": "text/x-python",
   "name": "python",
   "nbconvert_exporter": "python",
   "pygments_lexer": "ipython3",
   "version": "3.11.9"
  }
 },
 "nbformat": 4,
 "nbformat_minor": 5
}
